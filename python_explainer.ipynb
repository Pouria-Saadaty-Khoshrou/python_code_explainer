{
 "cells": [
  {
   "cell_type": "code",
   "execution_count": 19,
   "id": "c22c3538-5bfa-48cb-838c-005f42d14571",
   "metadata": {},
   "outputs": [],
   "source": [
    "import os\n",
    "import ollama\n",
    "from IPython.display import Markdown, display, clear_output, update_display"
   ]
  },
  {
   "cell_type": "code",
   "execution_count": 2,
   "id": "392d3026-6762-4d3e-81e0-9fb1d06a9cf2",
   "metadata": {},
   "outputs": [],
   "source": [
    "Model = 'llama3.2'"
   ]
  },
  {
   "cell_type": "code",
   "execution_count": 20,
   "id": "77839912-e09c-4d75-95ad-0889bcd0897c",
   "metadata": {},
   "outputs": [],
   "source": [
    "system_prompt = 'you are python assistant that recieve a line or multiple lines of \\\n",
    "code and then explain what happen in each line step by step in markdown'\n",
    "\n",
    "def user_prompt():\n",
    "    code = input('whats your python code problem ?\\n')\n",
    "    clear_output()\n",
    "    content = 'here is the python code:\\n'\n",
    "    content+=code\n",
    "    content+='\\n\\nnow explain what does exactly that code do and in complete form'\n",
    "    return content"
   ]
  },
  {
   "cell_type": "code",
   "execution_count": 23,
   "id": "6e36db0c-5170-4596-b40c-82bcb768c376",
   "metadata": {},
   "outputs": [],
   "source": [
    "def python_problem():\n",
    "    response = ollama.chat(\n",
    "        model=Model, \n",
    "        messages=[\n",
    "            {'role': 'system', 'content': system_prompt},\n",
    "            {'role': 'user', 'content': user_prompt()}\n",
    "        ],\n",
    "        stream=True\n",
    "    )\n",
    "\n",
    "    response = \"\"\n",
    "    display_handle = display(Markdown(\"\"), display_id=True)\n",
    "    for chunk in stream:\n",
    "        response += chunk.message.content or ''\n",
    "        response = response.replace(\"```\",\"\").replace(\"markdown\", \"\")\n",
    "        update_display(Markdown(response), display_id=display_handle.display_id)\n",
    "\n",
    "\n",
    "\n",
    "    \n",
    "    display(Markdown(response.message.content))"
   ]
  },
  {
   "cell_type": "code",
   "execution_count": 24,
   "id": "c2814815-537d-422a-b52f-b73d639dcd25",
   "metadata": {},
   "outputs": [
    {
     "data": {
      "text/markdown": [],
      "text/plain": [
       "<IPython.core.display.Markdown object>"
      ]
     },
     "metadata": {},
     "output_type": "display_data"
    },
    {
     "ename": "NameError",
     "evalue": "name 'stream' is not defined",
     "output_type": "error",
     "traceback": [
      "\u001b[31m---------------------------------------------------------------------------\u001b[39m",
      "\u001b[31mNameError\u001b[39m                                 Traceback (most recent call last)",
      "\u001b[36mCell\u001b[39m\u001b[36m \u001b[39m\u001b[32mIn[24]\u001b[39m\u001b[32m, line 1\u001b[39m\n\u001b[32m----> \u001b[39m\u001b[32m1\u001b[39m \u001b[43mpython_problem\u001b[49m\u001b[43m(\u001b[49m\u001b[43m)\u001b[49m\n",
      "\u001b[36mCell\u001b[39m\u001b[36m \u001b[39m\u001b[32mIn[23]\u001b[39m\u001b[32m, line 13\u001b[39m, in \u001b[36mpython_problem\u001b[39m\u001b[34m()\u001b[39m\n\u001b[32m     11\u001b[39m response = \u001b[33m\"\u001b[39m\u001b[33m\"\u001b[39m\n\u001b[32m     12\u001b[39m display_handle = display(Markdown(\u001b[33m\"\u001b[39m\u001b[33m\"\u001b[39m), display_id=\u001b[38;5;28;01mTrue\u001b[39;00m)\n\u001b[32m---> \u001b[39m\u001b[32m13\u001b[39m \u001b[38;5;28;01mfor\u001b[39;00m chunk \u001b[38;5;129;01min\u001b[39;00m \u001b[43mstream\u001b[49m:\n\u001b[32m     14\u001b[39m     response += chunk.message.content \u001b[38;5;129;01mor\u001b[39;00m \u001b[33m'\u001b[39m\u001b[33m'\u001b[39m\n\u001b[32m     15\u001b[39m     response = response.replace(\u001b[33m\"\u001b[39m\u001b[33m```\u001b[39m\u001b[33m\"\u001b[39m,\u001b[33m\"\u001b[39m\u001b[33m\"\u001b[39m).replace(\u001b[33m\"\u001b[39m\u001b[33mmarkdown\u001b[39m\u001b[33m\"\u001b[39m, \u001b[33m\"\u001b[39m\u001b[33m\"\u001b[39m)\n",
      "\u001b[31mNameError\u001b[39m: name 'stream' is not defined"
     ]
    }
   ],
   "source": [
    "python_problem()"
   ]
  },
  {
   "cell_type": "code",
   "execution_count": null,
   "id": "e64641d7-58a7-4148-8f0b-cc74341d6dc7",
   "metadata": {},
   "outputs": [],
   "source": []
  }
 ],
 "metadata": {
  "kernelspec": {
   "display_name": "Python 3 (ipykernel)",
   "language": "python",
   "name": "python3"
  },
  "language_info": {
   "codemirror_mode": {
    "name": "ipython",
    "version": 3
   },
   "file_extension": ".py",
   "mimetype": "text/x-python",
   "name": "python",
   "nbconvert_exporter": "python",
   "pygments_lexer": "ipython3",
   "version": "3.11.11"
  }
 },
 "nbformat": 4,
 "nbformat_minor": 5
}
